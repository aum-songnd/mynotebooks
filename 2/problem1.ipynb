{
 "cells": [
  {
   "cell_type": "markdown",
   "metadata": {},
   "source": "# Assignment 1 — Problem 1\n\nImplement a simple function `add(a, b)` that returns the sum of two numbers."
  },
  {
   "cell_type": "markdown",
   "metadata": {},
   "source": "## Instructions (Giảng viên ghi chú)\n- This notebook contains **one autograded problem** worth **10 points**.\n- Students should **only edit** the cell marked `# YOUR CODE HERE`.\n- Do **not** change function names or the cell structure."
  },
  {
   "cell_type": "code",
   "execution_count": null,
   "metadata": {
    "nbgrader": {
     "grade": false,
     "grade_id": "add_solution",
     "locked": false,
     "points": 0,
     "schema_version": 3,
     "solution": true,
     "task": false
    }
   },
   "outputs": [],
   "source": "def add(a, b):\n    \"\"\"Return the sum of a and b.\n\n    Examples\n    --------\n    >>> add(2, 3)\n    5\n    \"\"\"\n    # YOUR CODE HERE\n    raise NotImplementedError()\n"
  },
  {
   "cell_type": "code",
   "execution_count": null,
   "metadata": {
    "nbgrader": {
     "grade": true,
     "grade_id": "add_tests",
     "locked": true,
     "points": 10,
     "schema_version": 3,
     "solution": false,
     "task": false
    }
   },
   "outputs": [],
   "source": "# AUTOGRADED TESTS (Do not modify!)\n# If your implementation is correct, these assertions will pass.\n\nassert callable(add), \"add must be callable\"\nassert add(0, 0) == 0\nassert add(2, 3) == 5\nassert add(-4, 9) == 5\nassert add(1.5, 2.5) == 4.0\n\n# Additional randomized checks\nimport random\nfor _ in range(50):\n    x = random.randint(-1000, 1000)\n    y = random.randint(-1000, 1000)\n    assert add(x, y) == x + y\n\nprint(\"All tests passed!\")\n"
  }
 ],
 "metadata": {
  "kernelspec": {
   "display_name": "Python 3",
   "language": "python",
   "name": "python3"
  },
  "language_info": {
   "name": "python",
   "version": "3.x",
   "mimetype": "text/x-python",
   "codemirror_mode": {
    "name": "ipython",
    "version": 3
   },
   "pygments_lexer": "ipython3",
   "nbconvert_exporter": "python",
   "file_extension": ".py"
  }
 },
 "nbformat": 4,
 "nbformat_minor": 5
}